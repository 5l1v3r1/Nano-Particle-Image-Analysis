{
 "cells": [
  {
   "cell_type": "markdown",
   "metadata": {},
   "source": [
    "# Function Stubs\n",
    "- break functions into **sub-modules**\n",
    "- decide on what the **_inputs_** and **_outputs_** are for each function"
   ]
  },
  {
   "cell_type": "markdown",
   "metadata": {},
   "source": [
    "## Load Image and Proprocessing"
   ]
  },
  {
   "cell_type": "code",
   "execution_count": null,
   "metadata": {},
   "outputs": [],
   "source": [
    "def load_image(image_file, scale):\n",
    "    return image\n",
    "\n",
    "def get_scale_bar():  # <<\n",
    "    return            #\n",
    "                      # These two functions are connected.\n",
    "def crop_image():     # \n",
    "    get_scale_bar()   # <<\n",
    "    return            #"
   ]
  },
  {
   "cell_type": "markdown",
   "metadata": {},
   "source": [
    "## Image Processing"
   ]
  },
  {
   "cell_type": "code",
   "execution_count": null,
   "metadata": {},
   "outputs": [],
   "source": [
    "def verify_thresholding(): # <<\n",
    "    return                 #\n",
    "                           # These two functions are connected.\n",
    "def thresholding():        #\n",
    "    verify_thresholding()  # <<\n",
    "    return                 #\n",
    "\n",
    "def fit_gaussians():\n",
    "    return\n",
    "\n",
    "def distance_transformation():\n",
    "    return\n",
    "\n",
    "def watershed():\n",
    "    return"
   ]
  },
  {
   "cell_type": "markdown",
   "metadata": {},
   "source": [
    "## Image Analysis"
   ]
  },
  {
   "cell_type": "code",
   "execution_count": null,
   "metadata": {},
   "outputs": [],
   "source": [
    "def particle_distribution():\n",
    "    return\n",
    "\n",
    "def separation_analysis():\n",
    "    return\n",
    "\n",
    "def save_results():\n",
    "    return"
   ]
  },
  {
   "cell_type": "markdown",
   "metadata": {},
   "source": [
    "## Uses"
   ]
  },
  {
   "cell_type": "code",
   "execution_count": null,
   "metadata": {},
   "outputs": [],
   "source": [
    "import npia\n",
    "\n",
    "img = npia.load_image(image_file)\n",
    "threshold = npia.threshold(image_file)\n",
    "labels = npia.watershed(threshold)"
   ]
  },
  {
   "cell_type": "code",
   "execution_count": null,
   "metadata": {},
   "outputs": [],
   "source": [
    "class AFMImage:\n",
    "    def __init__(self, image_file, scale_bar=None, ub=None, lb=None):\n",
    "        self.image = cv2.imread(image_file)\n",
    "        self.original_image = None\n",
    "        self.scale_bar = scale_bar\n",
    "        self.upper_bound = ub\n",
    "        self.lower_bound = lb\n",
    "        \n",
    "        self.n_particles = None\n",
    "        self.particle_distances = []  # (x, y, radius, nearest_neighbor_dist)\n",
    "        return\n",
    "    \n",
    "    def load_image(self, image_file):\n",
    "        return\n",
    "    \n",
    "    def watershed(self):\n",
    "        cv2.watershed(self.image)"
   ]
  },
  {
   "cell_type": "code",
   "execution_count": null,
   "metadata": {},
   "outputs": [],
   "source": [
    "img = npia.AFMImage(image_file, scale)\n",
    "img.prepare()\n",
    "img.threshold()\n",
    "num_particles = img.n_particles"
   ]
  }
 ],
 "metadata": {
  "kernelspec": {
   "display_name": "Python 3",
   "language": "python",
   "name": "python3"
  },
  "language_info": {
   "codemirror_mode": {
    "name": "ipython",
    "version": 3
   },
   "file_extension": ".py",
   "mimetype": "text/x-python",
   "name": "python",
   "nbconvert_exporter": "python",
   "pygments_lexer": "ipython3",
   "version": "3.6.5"
  }
 },
 "nbformat": 4,
 "nbformat_minor": 2
}
